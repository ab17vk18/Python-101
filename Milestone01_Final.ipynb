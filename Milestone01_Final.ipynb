{
 "cells": [
  {
   "cell_type": "code",
   "execution_count": 1,
   "metadata": {},
   "outputs": [],
   "source": [
    "#TIC TAC TOE - milestone project 01:\n",
    "\n",
    "#STEP 1: Display the tictactoe board\n",
    "#STEP 2: Assign player marker - 'X' or 'O'\n",
    "#STEP 3: Get input from the player and assign it to the board\n",
    "#STEP 4: Check for win and carry on\n",
    "#STEP 5: Randomly choose which player goes first\n",
    "#STEP 6: Space check - to check whether the chosen position is available or already taken\n",
    "#STEP 7: Full board check - to check for tie/win\n",
    "#STEP 8: Choose the player's position - Do space check and chech if input is allowed\n",
    "#STEP 9: Play again check\n",
    "#STEP 10: Integrating all of the above steps, ultimately creating the TICTACTOE game"
   ]
  },
  {
   "cell_type": "code",
   "execution_count": 2,
   "metadata": {},
   "outputs": [],
   "source": [
    "#01) DISPLAYING THE BOARD\n",
    "from IPython.display import clear_output\n",
    "\n",
    "def display_board(board):\n",
    "    clear_output()    #To empty the print screen before every display of the board\n",
    "    \n",
    "    print(board[9]+'|'+board[8]+'|'+board[7])\n",
    "    print('-+-+-')\n",
    "    print(board[6]+'|'+board[5]+'|'+board[4])\n",
    "    print('-+-+-')\n",
    "    print(board[3]+'|'+board[2]+'|'+board[1])"
   ]
  },
  {
   "cell_type": "code",
   "execution_count": 3,
   "metadata": {},
   "outputs": [],
   "source": [
    "#02) ASSIGNING PLAYER MARKER\n",
    "\n",
    "def set_marker():\n",
    "\n",
    "    flag = True\n",
    "\n",
    "    while flag:\n",
    "        choice = input(\"Hey, PLAYER1! Please choose 1 for X or 2 for O: \")\n",
    "        if choice == '1':\n",
    "            marker1 = 'X'\n",
    "            marker2 = 'O'\n",
    "            flag = False\n",
    "        elif choice == '2':\n",
    "            marker1 = 'O'\n",
    "            marker2 = 'X'\n",
    "            flag = False\n",
    "        else:\n",
    "            print(\"Your input is invalid. Valid inputs: 1,2\")\n",
    "            continue\n",
    "        \n",
    "    print(\"PLAYER1 : {} and PLAYER2 : {}\".format(marker1,marker2))\n",
    "    return (marker1,marker2)"
   ]
  },
  {
   "cell_type": "code",
   "execution_count": 4,
   "metadata": {},
   "outputs": [],
   "source": [
    "#03) PLACING MARKER ON THE BOARD\n",
    "\n",
    "def place_marker(board,marker,position):\n",
    "    board[position] = marker"
   ]
  },
  {
   "cell_type": "code",
   "execution_count": 5,
   "metadata": {},
   "outputs": [],
   "source": [
    "#04) CHECK IF A PLAYER HAS WON\n",
    "\n",
    "def win_check(board,mark):\n",
    "    '''\n",
    "    RETURNS BOOLEAN: True - Someone won, False - No win yet\n",
    "    '''\n",
    "    \n",
    "    return ((board[7] == mark and board[8] == mark and board[9] == mark) or # across the top\n",
    "    (board[4] == mark and board[5] == mark and board[6] == mark) or # across the middle\n",
    "    (board[1] == mark and board[2] == mark and board[3] == mark) or # across the bottom\n",
    "    (board[7] == mark and board[4] == mark and board[1] == mark) or # down the middle\n",
    "    (board[8] == mark and board[5] == mark and board[2] == mark) or # down the middle\n",
    "    (board[9] == mark and board[6] == mark and board[3] == mark) or # down the right side\n",
    "    (board[7] == mark and board[5] == mark and board[3] == mark) or # diagonal 1\n",
    "    (board[9] == mark and board[5] == mark and board[1] == mark)) # diagonal 2"
   ]
  },
  {
   "cell_type": "code",
   "execution_count": 6,
   "metadata": {},
   "outputs": [],
   "source": [
    "#05) RANDOMLY SELECT WHICH PLAYER GOES FIRST\n",
    "\n",
    "import random\n",
    "\n",
    "def player_choose():\n",
    "    player = random.randint(1,2)\n",
    "    if player == 1:\n",
    "        return 'Player 1'\n",
    "    else:\n",
    "        return 'Player 2'"
   ]
  },
  {
   "cell_type": "code",
   "execution_count": 7,
   "metadata": {},
   "outputs": [],
   "source": [
    "#06) SPACE CHECK\n",
    "\n",
    "def space_check(board,position):\n",
    "    \n",
    "    return board[position] == ' ' #If the select position in the board is an empty space, it's available"
   ]
  },
  {
   "cell_type": "code",
   "execution_count": 8,
   "metadata": {},
   "outputs": [],
   "source": [
    "#07) CHECK IF THE BOARD IS FULL\n",
    "\n",
    "def full_board_check(board):\n",
    "    \n",
    "    for position in range(1,10):\n",
    "        \n",
    "        if space_check(board,position) == True:\n",
    "            return False   #If space is available, the board is not full\n",
    "    return True"
   ]
  },
  {
   "cell_type": "code",
   "execution_count": 9,
   "metadata": {},
   "outputs": [],
   "source": [
    "#08) PLAYER'S CHOICE OF PLACING MARKER IN A POSITION\n",
    "\n",
    "def player_plays(board,player):\n",
    "    \n",
    "    position = 0\n",
    "    \n",
    "    while position not in [1,2,3,4,5,6,7,8,9] or space_check(board,position) == False:\n",
    "        try:\n",
    "            position = int(input(\"Hey {}! Enter where you want to place the marker (1-9): \".format(player)))\n",
    "        except ValueError:\n",
    "            print(\"THAT'S INVALID!!!!Enter a valid input...(1-9)\")\n",
    "        \n",
    "    return position"
   ]
  },
  {
   "cell_type": "code",
   "execution_count": 10,
   "metadata": {},
   "outputs": [],
   "source": [
    "#09) CHECK FOR REPLAY\n",
    "\n",
    "def replay():\n",
    "    \n",
    "    #If input starts with y/Y, it returns true. Else, it always returns false.\n",
    "    return input('Do you want to play again? Enter Yes or No: ').lower().startswith('y')"
   ]
  },
  {
   "cell_type": "code",
   "execution_count": null,
   "metadata": {},
   "outputs": [
    {
     "name": "stdout",
     "output_type": "stream",
     "text": [
      " | |O\n",
      "-+-+-\n",
      " |X| \n",
      "-+-+-\n",
      "O|X|X\n",
      "Hey Player 2! Enter where you want to place the marker (1-9): s\n",
      "THAT'S INVALID!!!!Enter a valid input...(1-9)\n"
     ]
    }
   ],
   "source": [
    "#10) FINAL STEP - INTEGRATION\n",
    "\n",
    "game_flag = True  #Using while, loop the entire game and break it using replay()\n",
    "\n",
    "while game_flag:\n",
    "    \n",
    "    from IPython.display import clear_output  #Clear output screen\n",
    "    clear_output()\n",
    "    \n",
    "    print(\"Hello there! Welcome to TIC TAC TOE\")\n",
    "    \n",
    "    the_board = [' ']*10  #Creates empty board\n",
    "    \n",
    "    player1_marker,player2_marker = set_marker() #Choosing 'X' or 'O'\n",
    "    \n",
    "    whose_turn = player_choose()    #Who goes first\n",
    "    print(\"{} goes first\".format(whose_turn))\n",
    "    \n",
    "    ready_to_play = input(\"Ready to play? y or n: \")  #Check if the player is ready\n",
    "    \n",
    "    if ready_to_play == 'y':\n",
    "        game_on = True\n",
    "    else:\n",
    "        game_on = False\n",
    "    \n",
    "    ##GAMEPLAY STARTS FROM HERE##\n",
    "    \n",
    "    while game_on:\n",
    "        \n",
    "        if whose_turn == 'Player 1':\n",
    "            ###Player 1 turn\n",
    "            \n",
    "            display_board(the_board)  #1 Display board\n",
    "            \n",
    "            position = player_plays(the_board,whose_turn) #2 Get the position from the player to place the marker\n",
    "            \n",
    "            place_marker(the_board,player1_marker,position) #3 Place marker on the chosen position\n",
    "    \n",
    "            #4 Check if there is a win\n",
    "            if win_check(the_board,player1_marker) == True:\n",
    "                display_board(the_board)\n",
    "                print(\"Player 1 has won the game. Congratulations Player 1!!!\")\n",
    "                game_on = False\n",
    "        \n",
    "            else:\n",
    "                #5 Check if there is a tie\n",
    "                if full_board_check(the_board) == True:\n",
    "                    display_board(the_board)\n",
    "                    print(\"It's a TIE!!!!!\")\n",
    "                    game_on = False\n",
    "                else:\n",
    "                    #6 No win/tie? Proceed to next player\n",
    "                    whose_turn = 'Player 2'\n",
    "        \n",
    "        else:\n",
    "        ###Player 2 turn       \n",
    "            \n",
    "            display_board(the_board)\n",
    "            position = player_plays(the_board,whose_turn)\n",
    "            place_marker(the_board,player2_marker,position)\n",
    "    \n",
    "            if win_check(the_board,player2_marker) == True:\n",
    "                display_board(the_board)\n",
    "                print(\"Player 2 has won the game. Congratulations Player 2!!!!\")\n",
    "                game_on = False\n",
    "        \n",
    "            else:\n",
    "                if full_board_check(the_board) == True:\n",
    "                    display_board(the_board)\n",
    "                    print(\"It's a TIE!!!!!\")\n",
    "                    game_on = False\n",
    "                else:\n",
    "                    whose_turn = 'Player 1'\n",
    "                    \n",
    "    #In the end, call replay() function and break out of while loop\n",
    "    game_flag = replay()\n",
    "\n",
    "print(\"Game ended. Thank you!!!!\")"
   ]
  },
  {
   "cell_type": "code",
   "execution_count": null,
   "metadata": {},
   "outputs": [],
   "source": [
    "#OUTPUT 1:\n",
    "Hello there! Welcome to TIC TAC TOE\n",
    "Hey, PLAYER1! Please choose 1 for X or 2 for O: 1\n",
    "PLAYER1 : X and PLAYER2 : O\n",
    "Player 1 goes first\n",
    "Ready to play? y or n: n\n",
    "Do you want to play again? Enter Yes or No: n\n",
    "Game ended. Thank you!!!!"
   ]
  },
  {
   "cell_type": "code",
   "execution_count": null,
   "metadata": {},
   "outputs": [],
   "source": [
    "#OUTPUT 2:\n",
    "X|X|X\n",
    "-+-+-\n",
    "O|O| \n",
    "-+-+-\n",
    "X| |O\n",
    "Player 1 has won the game. Congratulations Player 1!!!\n",
    "Do you want to play again? Enter Yes or No: n\n",
    "Game ended. Thank you!!!!"
   ]
  },
  {
   "cell_type": "code",
   "execution_count": null,
   "metadata": {},
   "outputs": [],
   "source": [
    "#OUTPUT 3:\n",
    "X|X|O\n",
    "-+-+-\n",
    "O|O|X\n",
    "-+-+-\n",
    "X|O|X\n",
    "Its a TIE!!!!!\n",
    "Do you want to play again? Enter Yes or No: n\n",
    "Game ended. Thank you!!!!"
   ]
  },
  {
   "cell_type": "code",
   "execution_count": null,
   "metadata": {},
   "outputs": [],
   "source": [
    "#OUTPUT 4:\n",
    "X|X|X\n",
    "-+-+-\n",
    " |O| \n",
    "-+-+-\n",
    "O| |O\n",
    "Player 2 has won the game. Congratulations Player 2!!!!\n",
    "Do you want to play again? Enter Yes or No: n\n",
    "Game ended. Thank you!!!!"
   ]
  },
  {
   "cell_type": "code",
   "execution_count": null,
   "metadata": {},
   "outputs": [],
   "source": [
    "#OUTPUT 5:\n",
    " | |O\n",
    "-+-+-\n",
    " |X| \n",
    "-+-+-\n",
    "O|X|X\n",
    "Hey Player 2! Enter where you want to place the marker (1-9): s\n",
    "THAT'S INVALID!!!!Enter a valid input...(1-9)"
   ]
  }
 ],
 "metadata": {
  "kernelspec": {
   "display_name": "Python 3",
   "language": "python",
   "name": "python3"
  },
  "language_info": {
   "codemirror_mode": {
    "name": "ipython",
    "version": 3
   },
   "file_extension": ".py",
   "mimetype": "text/x-python",
   "name": "python",
   "nbconvert_exporter": "python",
   "pygments_lexer": "ipython3",
   "version": "3.7.0"
  }
 },
 "nbformat": 4,
 "nbformat_minor": 2
}
