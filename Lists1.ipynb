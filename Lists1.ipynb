{
 "cells": [
  {
   "cell_type": "code",
   "execution_count": 5,
   "metadata": {},
   "outputs": [],
   "source": [
    "#LISTS : Ordered sequences, holds multiple datatypes\n",
    "\n",
    "my_list1=[1,2,3,4,5]"
   ]
  },
  {
   "cell_type": "code",
   "execution_count": 6,
   "metadata": {},
   "outputs": [
    {
     "data": {
      "text/plain": [
       "[1, 2, 3, 4, 5]"
      ]
     },
     "execution_count": 6,
     "metadata": {},
     "output_type": "execute_result"
    }
   ],
   "source": [
    "my_list1"
   ]
  },
  {
   "cell_type": "code",
   "execution_count": 7,
   "metadata": {},
   "outputs": [],
   "source": [
    "my_list2=['One',2,3.0,'x','y']"
   ]
  },
  {
   "cell_type": "code",
   "execution_count": 8,
   "metadata": {},
   "outputs": [
    {
     "data": {
      "text/plain": [
       "['One', 2, 3.0, 'x', 'y']"
      ]
     },
     "execution_count": 8,
     "metadata": {},
     "output_type": "execute_result"
    }
   ],
   "source": [
    "my_list2"
   ]
  },
  {
   "cell_type": "code",
   "execution_count": 14,
   "metadata": {},
   "outputs": [
    {
     "name": "stdout",
     "output_type": "stream",
     "text": [
      "3\n",
      "[2, 3.0]\n",
      "[1, 2, 3, 4, 5, 'One', 2, 3.0, 'x', 'y']\n",
      "10\n",
      "[1, 2, 3, 4, 5, 'ONE', 2, 3.0, 'x', 'y']\n"
     ]
    }
   ],
   "source": [
    "#Indexing,Slicing,Concat,Mutable\n",
    "\n",
    "print(my_list1[2])\n",
    "print(my_list2[1:3])\n",
    "my_list = my_list1 + my_list2\n",
    "print(my_list)\n",
    "print(len(my_list))\n",
    "\n",
    "my_list[5]='ONE'\n",
    "print(my_list)"
   ]
  },
  {
   "cell_type": "code",
   "execution_count": 22,
   "metadata": {},
   "outputs": [
    {
     "name": "stdout",
     "output_type": "stream",
     "text": [
      "[1, 2, 3, 4, 5, 'ONE', 2, 3.0, 'x', 'y', 12]\n",
      "12   [1, 2, 3, 4, 5, 'ONE', 2, 3.0, 'x', 'y']\n",
      "ONE   [1, 2, 3, 4, 5, 2, 3.0, 'x', 'y']\n"
     ]
    }
   ],
   "source": [
    "#Append and Pop\n",
    "\n",
    "my_list.append(12)\n",
    "print(my_list)\n",
    "\n",
    "popped = my_list.pop()\n",
    "print(popped,' ',my_list)\n",
    "\n",
    "popped2 = my_list.pop(5) #Pop element by position\n",
    "print(popped2,' ',my_list)"
   ]
  },
  {
   "cell_type": "code",
   "execution_count": 23,
   "metadata": {},
   "outputs": [
    {
     "name": "stdout",
     "output_type": "stream",
     "text": [
      "None\n",
      "<class 'NoneType'>\n",
      "[2, 3, 5, 8, 9, 39, 1999, 2000]\n"
     ]
    }
   ],
   "source": [
    "#Sort : In-place method, returns nonetype, cannot be assigned to a variable\n",
    "\n",
    "num_list = [3,8,2,2000,5,9,39,1999]\n",
    "sorted_list = num_list.sort()\n",
    "print(sorted_list)\n",
    "print(type(sorted_list))\n",
    "print(num_list)\n"
   ]
  },
  {
   "cell_type": "code",
   "execution_count": null,
   "metadata": {},
   "outputs": [],
   "source": []
  }
 ],
 "metadata": {
  "kernelspec": {
   "display_name": "Python 3",
   "language": "python",
   "name": "python3"
  },
  "language_info": {
   "codemirror_mode": {
    "name": "ipython",
    "version": 3
   },
   "file_extension": ".py",
   "mimetype": "text/x-python",
   "name": "python",
   "nbconvert_exporter": "python",
   "pygments_lexer": "ipython3",
   "version": "3.7.0"
  }
 },
 "nbformat": 4,
 "nbformat_minor": 2
}
