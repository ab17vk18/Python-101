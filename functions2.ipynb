{
 "cells": [
  {
   "cell_type": "code",
   "execution_count": 1,
   "metadata": {},
   "outputs": [
    {
     "name": "stdout",
     "output_type": "stream",
     "text": [
      "15.700000000000001\n"
     ]
    }
   ],
   "source": [
    "#Prints circumference of circle given the radius:\n",
    "\n",
    "def circle(rad):\n",
    "    return rad*3.14\n",
    "\n",
    "print(circle(5))"
   ]
  },
  {
   "cell_type": "code",
   "execution_count": 9,
   "metadata": {},
   "outputs": [
    {
     "data": {
      "text/plain": [
       "False"
      ]
     },
     "execution_count": 9,
     "metadata": {},
     "output_type": "execute_result"
    }
   ],
   "source": [
    "#Checks if a number is in given range:\n",
    "\n",
    "def rangeof(low,high,num):\n",
    "    return num in range(low,high)\n",
    "\n",
    "rangeof(3,1080,1081)"
   ]
  },
  {
   "cell_type": "code",
   "execution_count": 12,
   "metadata": {},
   "outputs": [
    {
     "name": "stdout",
     "output_type": "stream",
     "text": [
      "Uppercase: 19\n",
      "Lowercase: 40\n"
     ]
    }
   ],
   "source": [
    "#Counts the number of lowercase and uppercase letters:\n",
    "\n",
    "def counter(mystr):\n",
    "    count_low = 0\n",
    "    count_up = 0\n",
    "    for letter in mystr:\n",
    "        if letter.isupper()==True:\n",
    "            count_up+=1\n",
    "        elif letter.islower()==True:\n",
    "            count_low+=1\n",
    "        else:\n",
    "            pass\n",
    "    return (count_up,count_low)\n",
    "\n",
    "count_up,count_low = counter(\"Hello. I am coming from Zurich. I love Montreal. I am a German. ICH HEIBE HANS\")\n",
    "\n",
    "print(f'Uppercase: {count_up}')\n",
    "print(f'Lowercase: {count_low}')\n",
    "        "
   ]
  },
  {
   "cell_type": "code",
   "execution_count": 13,
   "metadata": {},
   "outputs": [
    {
     "name": "stdout",
     "output_type": "stream",
     "text": [
      "[1, 2, 3, 4, 5]\n"
     ]
    }
   ],
   "source": [
    "#Print unique elements from a list:\n",
    "\n",
    "def unique_numbers(l):\n",
    "    return set(l)\n",
    "\n",
    "l = [1,1,1,2,3,4,4,4,5,5]\n",
    "print(list(unique_numbers(l)))"
   ]
  },
  {
   "cell_type": "code",
   "execution_count": 21,
   "metadata": {},
   "outputs": [
    {
     "name": "stdout",
     "output_type": "stream",
     "text": [
      "120\n"
     ]
    }
   ],
   "source": [
    "#Multiply numbers:\n",
    "\n",
    "def product(l):\n",
    "    p = 1\n",
    "    for num in l:\n",
    "        p = p*num\n",
    "    return p\n",
    "\n",
    "l = [1,2,3,4,5]\n",
    "\n",
    "print(product(l))"
   ]
  },
  {
   "cell_type": "code",
   "execution_count": null,
   "metadata": {},
   "outputs": [],
   "source": []
  }
 ],
 "metadata": {
  "kernelspec": {
   "display_name": "Python 3",
   "language": "python",
   "name": "python3"
  },
  "language_info": {
   "codemirror_mode": {
    "name": "ipython",
    "version": 3
   },
   "file_extension": ".py",
   "mimetype": "text/x-python",
   "name": "python",
   "nbconvert_exporter": "python",
   "pygments_lexer": "ipython3",
   "version": "3.7.0"
  }
 },
 "nbformat": 4,
 "nbformat_minor": 2
}
