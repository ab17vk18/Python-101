{
 "cells": [
  {
   "cell_type": "code",
   "execution_count": 5,
   "metadata": {},
   "outputs": [
    {
     "name": "stdout",
     "output_type": "stream",
     "text": [
      "2 is an even number\n",
      "3 is an odd number\n"
     ]
    }
   ],
   "source": [
    "#To find whether a number is even or odd:\n",
    "def isEven(num):\n",
    "    if(num%2==0):\n",
    "        r = 'even number'\n",
    "    else:\n",
    "        r = 'odd number'\n",
    "    return r\n",
    "\n",
    "num=2\n",
    "print(str(num)+' is an '+isEven(num))\n",
    "\n",
    "num=3\n",
    "print(str(num)+' is an '+isEven(num))\n",
    "\n"
   ]
  },
  {
   "cell_type": "code",
   "execution_count": null,
   "metadata": {},
   "outputs": [],
   "source": []
  }
 ],
 "metadata": {
  "kernelspec": {
   "display_name": "Python 3",
   "language": "python",
   "name": "python3"
  },
  "language_info": {
   "codemirror_mode": {
    "name": "ipython",
    "version": 3
   },
   "file_extension": ".py",
   "mimetype": "text/x-python",
   "name": "python",
   "nbconvert_exporter": "python",
   "pygments_lexer": "ipython3",
   "version": "3.7.0"
  }
 },
 "nbformat": 4,
 "nbformat_minor": 2
}
