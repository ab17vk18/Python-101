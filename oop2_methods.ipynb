{
 "cells": [
  {
   "cell_type": "code",
   "execution_count": 15,
   "metadata": {},
   "outputs": [],
   "source": [
    "class Dog():\n",
    "    \n",
    "    #Class Object Attribute: same for all instances of the class and no need for 'self' keyword\n",
    "    \n",
    "    species = 'canine'\n",
    "    \n",
    "    def __init__(self,breed,name,color,origin,age):\n",
    "      \n",
    "    #Attributes: Properties of the object\n",
    "    \n",
    "        self.breed = breed\n",
    "        self.name = name\n",
    "        self.color = color\n",
    "        self.origin = origin\n",
    "        self.age = age\n",
    "        \n",
    "    #Methods: Actions and operations that the object performs\n",
    "    \n",
    "    def bark(self):\n",
    "        print('WOOF!')\n",
    "        \n",
    "    def dog_name(self,height):\n",
    "        print(\"The dog's name is {} and its height is {}\".format(self.name,height))"
   ]
  },
  {
   "cell_type": "code",
   "execution_count": 16,
   "metadata": {},
   "outputs": [],
   "source": [
    "my_dog = Dog(breed='Huskie',name='Sbeve',color='Gray',origin='Siberia',age=3)"
   ]
  },
  {
   "cell_type": "code",
   "execution_count": 17,
   "metadata": {},
   "outputs": [
    {
     "data": {
      "text/plain": [
       "'canine'"
      ]
     },
     "execution_count": 17,
     "metadata": {},
     "output_type": "execute_result"
    }
   ],
   "source": [
    "my_dog.species"
   ]
  },
  {
   "cell_type": "code",
   "execution_count": 18,
   "metadata": {},
   "outputs": [
    {
     "name": "stdout",
     "output_type": "stream",
     "text": [
      "WOOF!\n"
     ]
    }
   ],
   "source": [
    "my_dog.bark()"
   ]
  },
  {
   "cell_type": "code",
   "execution_count": 19,
   "metadata": {},
   "outputs": [
    {
     "name": "stdout",
     "output_type": "stream",
     "text": [
      "The dog's name is Sbeve and its height is 2 feet\n"
     ]
    }
   ],
   "source": [
    "my_dog.dog_name('2 feet')"
   ]
  },
  {
   "cell_type": "code",
   "execution_count": null,
   "metadata": {},
   "outputs": [],
   "source": []
  },
  {
   "cell_type": "code",
   "execution_count": null,
   "metadata": {},
   "outputs": [],
   "source": [
    "#Calculating area and circumference using class:"
   ]
  },
  {
   "cell_type": "code",
   "execution_count": 31,
   "metadata": {},
   "outputs": [],
   "source": [
    "class Circle():\n",
    "    \n",
    "    #Class Object Attribute\n",
    "    pi = 3.14\n",
    "    \n",
    "    def __init__(self,radius=1): #Setting default value of radius as 1\n",
    "        \n",
    "        self.radius = radius\n",
    "        self.area = Circle.pi*self.radius*self.radius #Attribute need not be passed only as arguments\n",
    "        \n",
    "    def area_of_circle(self):\n",
    "        \n",
    "        return Circle.pi*self.radius*self.radius\n",
    "    \n",
    "    def circumference_of_circle(self):\n",
    "        \n",
    "        return 2*Circle.pi*self.radius"
   ]
  },
  {
   "cell_type": "code",
   "execution_count": 41,
   "metadata": {},
   "outputs": [],
   "source": [
    "my_circle= Circle(10)"
   ]
  },
  {
   "cell_type": "code",
   "execution_count": 42,
   "metadata": {},
   "outputs": [
    {
     "data": {
      "text/plain": [
       "3.14"
      ]
     },
     "execution_count": 42,
     "metadata": {},
     "output_type": "execute_result"
    }
   ],
   "source": [
    "my_circle.pi"
   ]
  },
  {
   "cell_type": "code",
   "execution_count": 48,
   "metadata": {},
   "outputs": [],
   "source": [
    "radius= my_circle.radius"
   ]
  },
  {
   "cell_type": "code",
   "execution_count": 49,
   "metadata": {},
   "outputs": [
    {
     "data": {
      "text/plain": [
       "314.0"
      ]
     },
     "execution_count": 49,
     "metadata": {},
     "output_type": "execute_result"
    }
   ],
   "source": [
    "my_circle.area"
   ]
  },
  {
   "cell_type": "code",
   "execution_count": 50,
   "metadata": {},
   "outputs": [
    {
     "name": "stdout",
     "output_type": "stream",
     "text": [
      "The area of the circle with radius 10 is 314.0\n"
     ]
    }
   ],
   "source": [
    "area = my_circle.area_of_circle()\n",
    "print('The area of the circle with radius {r} is {a}'.format(r=radius,a=area))"
   ]
  },
  {
   "cell_type": "code",
   "execution_count": 51,
   "metadata": {},
   "outputs": [
    {
     "name": "stdout",
     "output_type": "stream",
     "text": [
      "The circumference of the circle with radius 10 is 62.800000000000004\n"
     ]
    }
   ],
   "source": [
    "circumference = my_circle.circumference_of_circle()\n",
    "print('The circumference of the circle with radius {r} is {c}'.format(r=radius,c=circumference))"
   ]
  },
  {
   "cell_type": "code",
   "execution_count": null,
   "metadata": {},
   "outputs": [],
   "source": []
  }
 ],
 "metadata": {
  "kernelspec": {
   "display_name": "Python 3",
   "language": "python",
   "name": "python3"
  },
  "language_info": {
   "codemirror_mode": {
    "name": "ipython",
    "version": 3
   },
   "file_extension": ".py",
   "mimetype": "text/x-python",
   "name": "python",
   "nbconvert_exporter": "python",
   "pygments_lexer": "ipython3",
   "version": "3.7.0"
  }
 },
 "nbformat": 4,
 "nbformat_minor": 2
}
