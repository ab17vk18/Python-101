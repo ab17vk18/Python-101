{
 "cells": [
  {
   "cell_type": "code",
   "execution_count": 6,
   "metadata": {},
   "outputs": [
    {
     "name": "stdout",
     "output_type": "stream",
     "text": [
      "10\n",
      "16\n",
      "6\n",
      "4\n"
     ]
    }
   ],
   "source": [
    "#Basic arithmetic using functions:\n",
    "def sumFunc(a,b):\n",
    "    return a+b\n",
    "def mulFunc(a,b):\n",
    "    return a*b\n",
    "def subFunc(a,b):\n",
    "    return a-b\n",
    "def divFunc(a,b):\n",
    "    if(b!=0):\n",
    "        return int(a/b)\n",
    "\n",
    "a=8\n",
    "b=2\n",
    "print(sumFunc(a,b))\n",
    "print(mulFunc(a,b))\n",
    "print(subFunc(a,b))\n",
    "print(divFunc(a,b))"
   ]
  },
  {
   "cell_type": "code",
   "execution_count": null,
   "metadata": {},
   "outputs": [],
   "source": []
  }
 ],
 "metadata": {
  "kernelspec": {
   "display_name": "Python 3",
   "language": "python",
   "name": "python3"
  },
  "language_info": {
   "codemirror_mode": {
    "name": "ipython",
    "version": 3
   },
   "file_extension": ".py",
   "mimetype": "text/x-python",
   "name": "python",
   "nbconvert_exporter": "python",
   "pygments_lexer": "ipython3",
   "version": "3.7.0"
  }
 },
 "nbformat": 4,
 "nbformat_minor": 2
}
