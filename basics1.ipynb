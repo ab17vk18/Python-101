{
 "cells": [
  {
   "cell_type": "code",
   "execution_count": 1,
   "metadata": {},
   "outputs": [
    {
     "name": "stdout",
     "output_type": "stream",
     "text": [
      "Hello world\n"
     ]
    }
   ],
   "source": [
    "def helloWorld():\n",
    "    print('Hello world')\n",
    "\n",
    "helloWorld()"
   ]
  },
  {
   "cell_type": "code",
   "execution_count": 6,
   "metadata": {},
   "outputs": [
    {
     "name": "stdout",
     "output_type": "stream",
     "text": [
      "My name is Ash\n"
     ]
    }
   ],
   "source": [
    "def printName(name):\n",
    "    print('My name is {name}'.format(name=name))\n",
    "\n",
    "name = 'Ash'\n",
    "printName(name)"
   ]
  },
  {
   "cell_type": "code",
   "execution_count": 7,
   "metadata": {},
   "outputs": [
    {
     "name": "stdout",
     "output_type": "stream",
     "text": [
      "Hello\n"
     ]
    }
   ],
   "source": [
    "def boolean(b):\n",
    "    if b==True:\n",
    "        print('Hello')\n",
    "    else:\n",
    "        print('Goodbye')\n",
    "\n",
    "b=True\n",
    "boolean(b)"
   ]
  },
  {
   "cell_type": "code",
   "execution_count": 23,
   "metadata": {},
   "outputs": [
    {
     "name": "stdout",
     "output_type": "stream",
     "text": [
      "Sum = 29\n",
      "Difference = 15\n",
      "Product = 154\n",
      "Quotient = 3.14286; Reminder = 1\n"
     ]
    }
   ],
   "source": [
    "def addition(a,b):\n",
    "    print('Sum = {}'.format(a+b))\n",
    "def subtraction(a,b):\n",
    "    print('Difference = {}'.format(a-b))\n",
    "def multiplication(a,b):\n",
    "    print('Product = {}'.format(a*b))\n",
    "def division(a,b):\n",
    "    print('Quotient = {0:6.5f}; Reminder = {1}'.format(a/b,a%b))\n",
    "    \n",
    "a=22\n",
    "b=7\n",
    "addition(a,b)\n",
    "subtraction(a,b)\n",
    "multiplication(a,b)\n",
    "division(a,b)"
   ]
  },
  {
   "cell_type": "code",
   "execution_count": 27,
   "metadata": {},
   "outputs": [
    {
     "name": "stdout",
     "output_type": "stream",
     "text": [
      "True\n",
      "False\n"
     ]
    }
   ],
   "source": [
    "def isEven(num):\n",
    "    return num%2==0\n",
    "\n",
    "print(isEven(700))\n",
    "print(isEven(979))"
   ]
  },
  {
   "cell_type": "code",
   "execution_count": 30,
   "metadata": {},
   "outputs": [
    {
     "name": "stdout",
     "output_type": "stream",
     "text": [
      "22 is greater than 7\n",
      "24 is greater than 7\n",
      "Both the terms are equal\n"
     ]
    }
   ],
   "source": [
    "def isGreater(a,b):\n",
    "    if a>b:\n",
    "        print(f'{a} is greater than {b}')\n",
    "    elif b>a:\n",
    "        print(f'{b} is greater than {a}')\n",
    "    else:\n",
    "        print(f'Both the terms are equal')\n",
    "\n",
    "isGreater(22,7)\n",
    "isGreater(7,24)\n",
    "isGreater(3.14,3.14)\n"
   ]
  },
  {
   "cell_type": "code",
   "execution_count": 42,
   "metadata": {},
   "outputs": [
    {
     "name": "stdout",
     "output_type": "stream",
     "text": [
      "True\n",
      "False\n",
      "False\n",
      "True\n"
     ]
    }
   ],
   "source": [
    "def isPal(string):\n",
    "    for i in range (0,len(string)-1):\n",
    "        if string[i].lower()==string[len(string)-1-i].lower():\n",
    "            continue\n",
    "        else:\n",
    "            return False\n",
    "    return True\n",
    "print(isPal('Dood'))\n",
    "print(isPal('America'))\n",
    "print(isPal('Iceland'))\n",
    "print(isPal('ICiCI'))"
   ]
  },
  {
   "cell_type": "code",
   "execution_count": null,
   "metadata": {},
   "outputs": [],
   "source": []
  }
 ],
 "metadata": {
  "kernelspec": {
   "display_name": "Python 3",
   "language": "python",
   "name": "python3"
  },
  "language_info": {
   "codemirror_mode": {
    "name": "ipython",
    "version": 3
   },
   "file_extension": ".py",
   "mimetype": "text/x-python",
   "name": "python",
   "nbconvert_exporter": "python",
   "pygments_lexer": "ipython3",
   "version": "3.7.0"
  }
 },
 "nbformat": 4,
 "nbformat_minor": 2
}
