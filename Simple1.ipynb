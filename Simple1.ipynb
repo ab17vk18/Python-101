{
 "cells": [
  {
   "cell_type": "code",
   "execution_count": 1,
   "metadata": {},
   "outputs": [
    {
     "name": "stdout",
     "output_type": "stream",
     "text": [
      "523.3333333333334\n"
     ]
    }
   ],
   "source": [
    "def vol(rad):\n",
    "#To find volume of sphere:\n",
    "    return (4/3)*(3.14)*(rad**3)\n",
    "print(vol(5))"
   ]
  },
  {
   "cell_type": "code",
   "execution_count": 7,
   "metadata": {},
   "outputs": [
    {
     "name": "stdout",
     "output_type": "stream",
     "text": [
      "True\n"
     ]
    }
   ],
   "source": [
    "def numrange(n,h,l):\n",
    "#To find whether a number is between two other numbers:\n",
    "       return n in range(h,l)\n",
    "print (numrange(3,1,9))\n",
    "        "
   ]
  },
  {
   "cell_type": "code",
   "execution_count": 11,
   "metadata": {},
   "outputs": [
    {
     "name": "stdout",
     "output_type": "stream",
     "text": [
      "The string is:  Hi! How are you doing?\n",
      "Lower:  14\n",
      "Upper:  2\n"
     ]
    }
   ],
   "source": [
    "def uprlow(s):\n",
    "#To find total number of upper and lowercase letters in a string:\n",
    "    d ={'lower':0,'upper':0}\n",
    "    for c in s:\n",
    "        if c.isupper():\n",
    "            d['upper']+=1\n",
    "        elif c.islower():\n",
    "            d['lower']+=1\n",
    "        else:\n",
    "            pass\n",
    "    print(\"The string is: \",s)\n",
    "    print(\"Lower: \",d['lower'])\n",
    "    print(\"Upper: \",d['upper'])\n",
    "uprlow(\"Hi! How are you doing?\")"
   ]
  },
  {
   "cell_type": "code",
   "execution_count": 14,
   "metadata": {},
   "outputs": [
    {
     "name": "stdout",
     "output_type": "stream",
     "text": [
      "Unique list is:  [1, 2, 3, 4, 5]\n"
     ]
    }
   ],
   "source": [
    "def uniq_list(l):\n",
    "#To cherry pick unique numbers in a list of numbers and print them as a new list:\n",
    "    x=[]\n",
    "    for n in l:\n",
    "        if n not in x:\n",
    "            x.append(n)\n",
    "    return x\n",
    "r = uniq_list([1,1,1,2,2,2,3,4,4,5,5,1,5,4,4,5])\n",
    "print(\"Unique list is: \",r)"
   ]
  },
  {
   "cell_type": "code",
   "execution_count": 17,
   "metadata": {},
   "outputs": [
    {
     "name": "stdout",
     "output_type": "stream",
     "text": [
      "120\n"
     ]
    }
   ],
   "source": [
    "def multi(l):\n",
    "#To multiply all the numbers in a list:\n",
    "    p=1\n",
    "    for num in l:\n",
    "        p=p*num\n",
    "    return p\n",
    "print(multi([5,4,-3,-2,1]))"
   ]
  },
  {
   "cell_type": "code",
   "execution_count": 76,
   "metadata": {},
   "outputs": [
    {
     "name": "stdout",
     "output_type": "stream",
     "text": [
      "True\n"
     ]
    }
   ],
   "source": [
    "def is_palindrome(s):\n",
    "#To find whether the entered string is a Palindrome:\n",
    "    l = int(len(s)/2)\n",
    "    for n in range(l):\n",
    "        if (s[n].lower()==s[len(s)-1-n].lower()):\n",
    "            continue\n",
    "        else:\n",
    "            return False\n",
    "    return True\n",
    "print(is_palindrome(\"Hiih\"))\n",
    "        \n",
    "\n",
    "            "
   ]
  },
  {
   "cell_type": "code",
   "execution_count": null,
   "metadata": {},
   "outputs": [],
   "source": []
  }
 ],
 "metadata": {
  "kernelspec": {
   "display_name": "Python 3",
   "language": "python",
   "name": "python3"
  },
  "language_info": {
   "codemirror_mode": {
    "name": "ipython",
    "version": 3
   },
   "file_extension": ".py",
   "mimetype": "text/x-python",
   "name": "python",
   "nbconvert_exporter": "python",
   "pygments_lexer": "ipython3",
   "version": "3.7.0"
  }
 },
 "nbformat": 4,
 "nbformat_minor": 2
}
