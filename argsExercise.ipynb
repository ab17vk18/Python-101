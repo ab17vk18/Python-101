{
 "cells": [
  {
   "cell_type": "code",
   "execution_count": 1,
   "metadata": {},
   "outputs": [
    {
     "name": "stdout",
     "output_type": "stream",
     "text": [
      "2\n",
      "4\n",
      "6\n",
      "8\n",
      "10\n",
      "100\n",
      "1000\n",
      "10000\n",
      "100000\n",
      "1000000000\n"
     ]
    }
   ],
   "source": [
    "#isEven using *args:\n",
    "\n",
    "def myfunc(*args):\n",
    "    for number in args:\n",
    "        if(number%2==0):\n",
    "            print(number)\n",
    "\n",
    "myfunc(1,2,3,4,5,6,7,8,9,10,100,1000,10000,10001,100000,100001,1000000000)"
   ]
  },
  {
   "cell_type": "code",
   "execution_count": 10,
   "metadata": {},
   "outputs": [
    {
     "name": "stdout",
     "output_type": "stream",
     "text": [
      "NeW YoRk\n",
      "CaPe tOwN\n",
      "ShAnGhAi\n",
      "IsTaNbUl\n",
      "PaRiS\n",
      "SyDnEy\n",
      "BuEnOs aIrEs\n",
      "MoScOw\n"
     ]
    }
   ],
   "source": [
    "#NY Skyline using *args:\n",
    "\n",
    "def myfunc(*args):\n",
    "    for item in args:\n",
    "        cursor = 0\n",
    "        result = ''\n",
    "        for letter in item:\n",
    "            if cursor%2==0:\n",
    "                result = result+letter.upper()\n",
    "                cursor+=1\n",
    "            else:\n",
    "                result = result+letter.lower()\n",
    "                cursor+=1\n",
    "        print (result)\n",
    "\n",
    "myfunc('new york','cape town','shanghai','istanbul','paris','sydney','buenos aires','moscow')\n"
   ]
  },
  {
   "cell_type": "code",
   "execution_count": null,
   "metadata": {},
   "outputs": [],
   "source": []
  }
 ],
 "metadata": {
  "kernelspec": {
   "display_name": "Python 3",
   "language": "python",
   "name": "python3"
  },
  "language_info": {
   "codemirror_mode": {
    "name": "ipython",
    "version": 3
   },
   "file_extension": ".py",
   "mimetype": "text/x-python",
   "name": "python",
   "nbconvert_exporter": "python",
   "pygments_lexer": "ipython3",
   "version": "3.7.0"
  }
 },
 "nbformat": 4,
 "nbformat_minor": 2
}
